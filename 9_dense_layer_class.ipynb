{
 "cells": [
  {
   "cell_type": "code",
   "execution_count": 1,
   "metadata": {},
   "outputs": [
    {
     "name": "stdout",
     "output_type": "stream",
     "text": [
      "[[0.         0.         0.        ]\n",
      " [0.         0.00011395 0.        ]\n",
      " [0.         0.00031729 0.        ]\n",
      " [0.         0.00052666 0.        ]\n",
      " [0.         0.00071401 0.        ]]\n"
     ]
    }
   ],
   "source": [
    "import numpy as np\n",
    "import nnfs\n",
    "from nnfs.datasets import spiral_data\n",
    "\n",
    "nnfs.init()\n",
    "\n",
    "# Dense Layer\n",
    "class Layer_Dense:\n",
    "\t\n",
    "\t# Layer initialisation\n",
    "\tdef __init__(self, n_inputs, n_neurons):\n",
    "\t\t# Initialise weights and biases\n",
    "\t\tself.weights = 0.01 * np.random.randn(n_inputs, n_neurons)\n",
    "\t\tself.biases = np.zeros((1, n_neurons))\n",
    "\t\n",
    "\t# Forward Pass\n",
    "\tdef forward(self, inputs):\n",
    "\t\t# Calculate output values based on inputs, weights and biases\n",
    "\t\tself.output = np.dot(inputs, self.weights) + self.biases\n",
    "    \n",
    "#ReLU Activation Function\n",
    "class Activation_ReLU:\n",
    "    # Forward Pass\n",
    "    def forward(self, inputs):\n",
    "        self.output = np.maximum(0, inputs)\n",
    "\n",
    "# Create dataset\n",
    "X, y = spiral_data(samples=100, classes=3)\n",
    "\n",
    "# Create dense layer with 2 input features and 3 output values\n",
    "dense1 = Layer_Dense(2,3)\n",
    "\n",
    "# Create activation\n",
    "activation_1 = Activation_ReLU()\n",
    "\n",
    "# Perform a forward pass of our training data through the layer\n",
    "dense1.forward(X)\n",
    "\n",
    "#Perform activation\n",
    "activation_1.forward(dense1.output)\n",
    "\n",
    "# print(dense1.output[:5])\n",
    "print(activation_1.output[:5])"
   ]
  }
 ],
 "metadata": {
  "kernelspec": {
   "display_name": "Python 3",
   "language": "python",
   "name": "python3"
  },
  "language_info": {
   "codemirror_mode": {
    "name": "ipython",
    "version": 3
   },
   "file_extension": ".py",
   "mimetype": "text/x-python",
   "name": "python",
   "nbconvert_exporter": "python",
   "pygments_lexer": "ipython3",
   "version": "3.6.6+"
  }
 },
 "nbformat": 4,
 "nbformat_minor": 2
}
